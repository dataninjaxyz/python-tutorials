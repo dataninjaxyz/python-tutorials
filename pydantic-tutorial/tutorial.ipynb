{
 "cells": [
  {
   "cell_type": "code",
   "execution_count": null,
   "id": "0cba1e14",
   "metadata": {},
   "outputs": [],
   "source": [
    "pip install pydantic email-validator pydantic-settings jupyter"
   ]
  },
  {
   "cell_type": "markdown",
   "id": "9c27531a",
   "metadata": {},
   "source": [
    "### 1. Validation without Pydantic"
   ]
  },
  {
   "cell_type": "code",
   "execution_count": 1,
   "id": "c18e7960",
   "metadata": {},
   "outputs": [],
   "source": [
    "class Product:\n",
    "    def __init__(self, id: int, name: str, price: float):\n",
    "        if not isinstance(id, int):\n",
    "            raise TypeError(\"ID must be an integer\")\n",
    "        if not isinstance(name, str):\n",
    "            raise TypeError(\"Name must be a string\")\n",
    "        if not isinstance(price, (int, float)):\n",
    "            raise TypeError(\"Price must be a number\")\n",
    "        self.id = id\n",
    "        self.name = name\n",
    "        self.price = price\n",
    "\n",
    "class Order:\n",
    "    def __init__(self, order_id: int, customer_email: str, products: list):\n",
    "        if not isinstance(order_id, int):\n",
    "            raise TypeError(\"Order ID must be an integer\")\n",
    "        if not isinstance(customer_email, str):\n",
    "            raise TypeError(\"Customer email must be a string\")\n",
    "        if not all(isinstance(p, Product) for p in products):\n",
    "            raise TypeError(\"All items in products must be Product objects\")\n",
    "        self.order_id = order_id\n",
    "        self.customer_email = customer_email\n",
    "        self.products = products"
   ]
  },
  {
   "cell_type": "code",
   "execution_count": 2,
   "id": "8e7a40df",
   "metadata": {},
   "outputs": [],
   "source": [
    "p1 = Product(id=3, name=\"Boots\", price=42.50)\n",
    "p2 = Product(id=4, name=\"Shoe\", price=32.0)\n",
    "\n",
    "o = Order(order_id=3322, customer_email=\"asdf@dataninja.xyz\", products=[p1, p2])\n"
   ]
  },
  {
   "cell_type": "markdown",
   "id": "51e081ee",
   "metadata": {},
   "source": [
    "### 2. Validation with Pydantic"
   ]
  },
  {
   "cell_type": "code",
   "execution_count": null,
   "id": "69e001dc",
   "metadata": {},
   "outputs": [],
   "source": [
    "from pydantic import BaseModel\n",
    "\n",
    "class Product(BaseModel):\n",
    "    id: int\n",
    "    name: str\n",
    "    price: float\n",
    "\n",
    "p = Product(id=33, name=\"Radio\", price=120.0)\n",
    "\n",
    "print(p)"
   ]
  },
  {
   "cell_type": "markdown",
   "id": "a9f734be",
   "metadata": {},
   "source": [
    "### 3. Email validaiton"
   ]
  },
  {
   "cell_type": "code",
   "execution_count": 22,
   "id": "bee71db5",
   "metadata": {},
   "outputs": [],
   "source": [
    "from pydantic import EmailStr, BaseModel\n",
    "from typing import List, Optional\n",
    "\n",
    "class Order(BaseModel):\n",
    "    order_id: int\n",
    "    customer_email: EmailStr\n",
    "    products: Optional[List[Product]] = []\n",
    "    delivered: bool = False"
   ]
  },
  {
   "cell_type": "code",
   "execution_count": 23,
   "id": "f5d87ce7",
   "metadata": {},
   "outputs": [],
   "source": [
    "o = Order(order_id=3322, customer_email=\"asdf@dataninja.xyz\")"
   ]
  },
  {
   "cell_type": "code",
   "execution_count": null,
   "id": "0c395087",
   "metadata": {},
   "outputs": [],
   "source": [
    "print(o.model_dump_json())"
   ]
  },
  {
   "cell_type": "markdown",
   "id": "434866ed",
   "metadata": {},
   "source": [
    "### 4. Regex validation"
   ]
  },
  {
   "cell_type": "code",
   "execution_count": 25,
   "id": "af900dd7",
   "metadata": {},
   "outputs": [],
   "source": [
    "from pydantic import Field\n",
    "\n",
    "class Product(BaseModel):\n",
    "    id: int\n",
    "    name: str = Field(..., pattern=r\"^[a-zA-Z0-9-\\s]+$\")\n",
    "    price: float"
   ]
  },
  {
   "cell_type": "code",
   "execution_count": null,
   "id": "6f5b7aea",
   "metadata": {},
   "outputs": [],
   "source": [
    "product_data = {\"id\": 1, \"name\": \"Laptop!\", \"price\": 1200.00}\n",
    "\n",
    "try:\n",
    "    p = Product(**product_data)\n",
    "    print(p.model_dump_json(indent=2))\n",
    "except Exception as e:\n",
    "    print(f\"Error creating order: {e}\")"
   ]
  },
  {
   "cell_type": "markdown",
   "id": "38cbbd10",
   "metadata": {},
   "source": [
    "### 5. Nested model validation"
   ]
  },
  {
   "cell_type": "code",
   "execution_count": 1,
   "id": "3dace827",
   "metadata": {},
   "outputs": [],
   "source": [
    "from pydantic import BaseModel, Field, EmailStr\n",
    "from typing import List, Optional\n",
    "\n",
    "class Product(BaseModel):\n",
    "    id: int\n",
    "    name: str = Field(..., pattern=r\"^[a-zA-Z0-9\\s]+$\")\n",
    "    price: float\n",
    "\n",
    "class Order(BaseModel):\n",
    "    order_id: int\n",
    "    customer_email: EmailStr\n",
    "    products: List[Product]\n",
    "    delivery_address: Optional[str] = None"
   ]
  },
  {
   "cell_type": "code",
   "execution_count": null,
   "id": "6b7b8986",
   "metadata": {},
   "outputs": [],
   "source": [
    "product_data_1 = {\"id\": 1, \"name\": \"Laptop\", \"price\": 1200.00}\n",
    "product_data_2 = {\"id\": 2, \"name\": \"Mouse\", \"price\": 25.50}\n",
    "\n",
    "order_data = {\n",
    "    \"order_id\": 101,\n",
    "    \"customer_email\": \"jane.doe@example.com\",\n",
    "    \"products\": [product_data_1, product_data_2]\n",
    "}\n",
    "\n",
    "# Filling with **kwargs!\n",
    "try:\n",
    "    order = Order(**order_data)\n",
    "    print(\"\\nOrder created successfully from dictionary:\")\n",
    "    print(order.model_dump_json(indent=2))\n",
    "except Exception as e:\n",
    "    print(f\"Error creating order: {e}\")"
   ]
  },
  {
   "cell_type": "markdown",
   "id": "47b2b3ad",
   "metadata": {},
   "source": [
    "### 6. Computed fields"
   ]
  },
  {
   "cell_type": "code",
   "execution_count": 29,
   "id": "7b853fda",
   "metadata": {},
   "outputs": [],
   "source": [
    "from pydantic import BaseModel, Field, EmailStr\n",
    "from typing import List, Optional\n",
    "\n",
    "class Product(BaseModel):\n",
    "    id: int\n",
    "    name: str = Field(..., pattern=r\"^[a-zA-Z0-9\\s]+$\")\n",
    "    price: float\n",
    "\n",
    "class Order(BaseModel):\n",
    "    order_id: int\n",
    "    customer_email: EmailStr\n",
    "    products: Optional[List[Product]] = []\n",
    "    delivery_address: Optional[str] = None\n",
    "\n",
    "    # Computed field\n",
    "    @property\n",
    "    def total_price(self) -> float:\n",
    "        return sum(product.price for product in self.products)"
   ]
  },
  {
   "cell_type": "code",
   "execution_count": null,
   "id": "1afedfbb",
   "metadata": {},
   "outputs": [],
   "source": [
    "product_data_1 = {\"id\": 1, \"name\": \"Laptop\", \"price\": 1200.00}\n",
    "product_data_2 = {\"id\": 2, \"name\": \"Mouse\", \"price\": 25.50}\n",
    "\n",
    "order_data = {\n",
    "    \"order_id\": 101,\n",
    "    \"customer_email\": \"jane.doe@example.com\",\n",
    "    \"products\": [product_data_1, product_data_2]\n",
    "}\n",
    "\n",
    "try:\n",
    "    order = Order(**order_data)\n",
    "    print(order.model_dump_json(indent=2))\n",
    "    print(f\"Total order price: ${order.total_price:.2f}\")\n",
    "except Exception as e:\n",
    "    print(f\"Error creating order: {e}\")"
   ]
  },
  {
   "cell_type": "markdown",
   "id": "917c747d",
   "metadata": {},
   "source": [
    "### 7. Custom Field Validators"
   ]
  },
  {
   "cell_type": "code",
   "execution_count": null,
   "id": "2886ac19",
   "metadata": {},
   "outputs": [],
   "source": [
    "from pydantic import BaseModel, Field, field_validator\n",
    "\n",
    "class Product(BaseModel):\n",
    "    id: int\n",
    "    name: str = Field(..., pattern=r\"^[a-zA-Z0-9\\s]+$\")\n",
    "    price: float\n",
    "\n",
    "    @field_validator(\"name\")\n",
    "    @classmethod\n",
    "    def name_must_contain_space(cls, v: str) -> str:\n",
    "        if ' ' not in v:\n",
    "            raise ValueError(\"Product name must contain a space\")\n",
    "        return v\n",
    "\n",
    "p = Product(id=43, name=\"asdf asdf\", price=454)\n",
    "print(p.model_dump_json())"
   ]
  },
  {
   "cell_type": "markdown",
   "id": "43245684",
   "metadata": {},
   "source": [
    "### 8. Filling Pydantic models from JSON directly"
   ]
  },
  {
   "cell_type": "code",
   "execution_count": null,
   "id": "a90a0f5b",
   "metadata": {},
   "outputs": [],
   "source": [
    "import json\n",
    "from pydantic import ValidationError\n",
    "\n",
    "json_data = \"\"\"\n",
    "{\n",
    "    \"order_id\": 102,\n",
    "    \"customer_email\": \"bob.smith@test.org\",\n",
    "    \"products\": [\n",
    "        {\"id\": 4, \"name\": \"Keyboard\", \"price\": 75.00},\n",
    "        {\"id\": 5, \"name\": \"Monitor\", \"price\": 300.00}\n",
    "    ],\n",
    "    \"delivery_address\": \"123 Main St, Anytown\"\n",
    "}\n",
    "\"\"\"\n",
    "\n",
    "try:\n",
    "    order_from_json = Order.model_validate_json(json_data) # Use model_validate_json for Pydantic v2+\n",
    "    print(\"Order created successfully from JSON:\")\n",
    "    print(order_from_json.model_dump_json(indent=2))\n",
    "except ValidationError as e:\n",
    "    print(f\"Error parsing JSON: {e}\")\n"
   ]
  },
  {
   "cell_type": "markdown",
   "id": "05de1c54",
   "metadata": {},
   "source": [
    "### 9. Strict mode"
   ]
  },
  {
   "cell_type": "code",
   "execution_count": null,
   "id": "4e4f9b55",
   "metadata": {},
   "outputs": [],
   "source": [
    "from pydantic import BaseModel, StrictInt, StrictFloat, ValidationError\n",
    "\n",
    "class StrictProduct(BaseModel):\n",
    "    id: StrictInt\n",
    "    price: StrictFloat\n",
    "\n",
    "try:\n",
    "    strict_product = StrictProduct(id=\"1\", price=100.0)\n",
    "except ValidationError as e:\n",
    "    print(f\"Error in strict mode (id): {e}\")\n",
    "\n",
    "try:\n",
    "    strict_product_2 = StrictProduct(id=2, price=100)\n",
    "except ValidationError as e:\n",
    "    print(f\"Error in strict mode (price): {e}\")\n",
    "\n",
    "# This will pass\n",
    "strict_product_ok = StrictProduct(id=3, price=100.0)\n",
    "print(\"Strict Product (OK):\", strict_product_ok)"
   ]
  },
  {
   "cell_type": "markdown",
   "id": "1d9a79b9",
   "metadata": {},
   "source": [
    "### 10. Pydantic Settings - parsing .env files"
   ]
  },
  {
   "cell_type": "code",
   "execution_count": null,
   "id": "64cab6e2",
   "metadata": {},
   "outputs": [],
   "source": [
    "import os\n",
    "from pydantic_settings import BaseSettings, SettingsConfigDict\n",
    "\n",
    "class AppSettings(BaseSettings):\n",
    "    model_config = SettingsConfigDict(env_file='.env', extra='ignore')\n",
    "    database_url: str\n",
    "    api_key: str\n",
    "    debug_mode: bool = False\n",
    "    workers: int = 1\n",
    "\n",
    "try:\n",
    "    settings = AppSettings()\n",
    "    print(f\"Database URL: {settings.database_url}\")\n",
    "    print(f\"API Key: {settings.api_key}\")\n",
    "    print(f\"Debug Mode: {settings.debug_mode}\")\n",
    "    print(f\"Workers: {settings.workers}\")\n",
    "except Exception as e:\n",
    "    print(f\"Error loading settings: {e}\")\n"
   ]
  }
 ],
 "metadata": {
  "kernelspec": {
   "display_name": "env",
   "language": "python",
   "name": "python3"
  },
  "language_info": {
   "codemirror_mode": {
    "name": "ipython",
    "version": 3
   },
   "file_extension": ".py",
   "mimetype": "text/x-python",
   "name": "python",
   "nbconvert_exporter": "python",
   "pygments_lexer": "ipython3",
   "version": "3.11.2"
  }
 },
 "nbformat": 4,
 "nbformat_minor": 5
}
